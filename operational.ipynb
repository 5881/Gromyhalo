{
 "cells": [
  {
   "cell_type": "code",
   "execution_count": 14,
   "metadata": {
    "collapsed": false
   },
   "outputs": [],
   "source": [
    "import os\n",
    "import sys\n",
    "import random\n",
    "from time import sleep\n",
    "import wave\n",
    "import numpy as np\n",
    "import matplotlib.pyplot as plt\n",
    "import matplotlib.ticker as ticker\n",
    "import math\n",
    "from serial import *\n",
    "from scipy import interpolate\n",
    "\n",
    "ser = Serial(\"/dev/ttyUSB0\" , 115200)\n",
    "inputfile=sys.argv[1]\n",
    "\n",
    "wav = wave.open(\"/home/adonai/DIY/tda/thunder-sounds/17-1.wav\", mode=\"r\")\n",
    "(nchannels, sampwidth, framerate, nframes, comptype, compname) = wav.getparams()\n",
    "\n",
    "duration = nframes / framerate\n",
    "k = int(nframes/1000) \n",
    "\n",
    "content = wav.readframes(nframes)\n",
    "samples = np.fromstring(content, dtype=np.int16)\n",
    "channel = samples[1::2*k] \n",
    "channel = np.abs(channel)\n",
    "channelmax = np.max(channel)\n",
    "threshold = channelmax*0.5 # пороговое значение для просева\n",
    "for i in range(channel.size):\n",
    "    if channel[i]<threshold:\n",
    "        channel[i]=0        # обнуление значений каналов если значение громкости меньше порогового значения\n",
    "\n",
    "#Определяем паузу между посылками\n",
    "pause=duration/channel.size\n",
    "delay=int(0.5/pause)\n",
    "\n",
    "# список используемых цветов\n",
    "RGBsamples = [[219, 240, 37], [254, 190, 0], [254, 74, 0], [192, 0, 240], [142, 47, 240], [178, 210, 0], [138, 139, 47], [219, 0, 240], [0, 244, 244]]\n",
    "                \n",
    "def glow():\n",
    "    global i1\n",
    "    global i2 \n",
    "    global w\n",
    "    i1=0\n",
    "    i2=0\n",
    "    \n",
    "    r1=0 # цветные вспышки по низкому порогу\n",
    "    g1=0\n",
    "    b1=0\n",
    "    r2=0 # свечение\n",
    "    g2=0\n",
    "    b2=0\n",
    "    w=0  # белые вспышки по высокому порогу\n",
    "    threshold1 = np.max(channel)*0.7 # пороговое значение для просева \n",
    "    threshold2 = np.max(channel)*0.5 # пороговое значение для просева\n",
    "    \n",
    "    choosedcolours = random.sample(RGBsamples, 4) #случайный выбор 3х клевых цветов из списка\n",
    "    RGB0 = choosedcolours[0] # для цветных вспышек\n",
    "    RGB1 = choosedcolours[1] # старт цветового пути\n",
    "    RGB2 = choosedcolours[2] # промежуточная точка цветового пути\n",
    "    RGB3 = choosedcolours[3] # конец цветового пути\n",
    "        \n",
    "    #цветовой путь для свечения:\n",
    "    tseqences = [0, 0.5*k, k] #временные точки для аппроксимации цветового пути\n",
    "    rgb_path = [RGB1, RGB2, RGB3] # цветовой путь\n",
    "    r_path = [] # индивидуальные пути\n",
    "    g_path = []\n",
    "    b_path = []\n",
    "    for i in range(len(rgb_path)):\n",
    "        r_path.append(rgb_path[i][0])\n",
    "        g_path.append(rgb_path[i][1])\n",
    "        b_path.append(rgb_path[i][2])\n",
    "    #линейная апроксимация интенсивностей свечения по каналам как функции от tseqences \n",
    "    iR = interpolate.interp1d(tseqences, r_path) \n",
    "    iG = interpolate.interp1d(tseqences, g_path)\n",
    "    iB = interpolate.interp1d(tseqences, b_path)    \n",
    "        \n",
    "    #запуск аудиодорожки\n",
    "    for i in range(channel.size):\n",
    "        if i==delay: os.system(\"aplay -q /home/adonai/DIY/tda/thunder-sounds/17-1.wav &\")\n",
    "        #присвоение значений светимости\n",
    "        # белые вспышки\n",
    "        if channel[i] > threshold1: w = 254 * channel[i] / channelmax\n",
    "        if w > 254: w = 254\n",
    "        \n",
    "        # цветные вспышки\n",
    "        if channel[i] < threshold1 and channel[i] > threshold2: i1 = 254 * channel[i] / channelmax \n",
    "        if i1 > 1: i1 = 1\n",
    "        r1 = RGB0[0]*i1\n",
    "        g1 = RGB0[1]*i1\n",
    "        b1 = RGB0[2]*i1\n",
    "        if r1 > 254: r1 = 254\n",
    "        if g1 > 254: g1 = 254\n",
    "        if b1 > 254: b1 = 254\n",
    "        \n",
    "        # цветное сияние    \n",
    "        if channel[i] != 0: i2 = i2 + channel[i] / channelmax \n",
    "        if i2 > 1: i2 = 1 \n",
    "        r2 = iR(i) * i2\n",
    "        g2 = iG(i) * i2\n",
    "        b2 = iB(i) * i2 \n",
    "        if r2 > 254: r2 = 254\n",
    "        if g2 > 254: g2 = 254\n",
    "        if b2 > 254: b2 = 254\n",
    "\n",
    "        #вывод на диоды\n",
    "        if i < 0.95*k: ser.write(bytearray([int(r1), int(g1), int(b1), int(r2), int(g2), int(b2), int(w),0,0,0,0,0,0xff]))\n",
    "        else : ser.write(bytearray([0,0,0,0,0,0,0,0,0,0,0,0,0xff]))\n",
    "        #уменьшение интенсивности свечения\n",
    "        \n",
    "        w = w*0.5\n",
    "        if w < 1: w = 0\n",
    "        i1 = i1 * 0.6\n",
    "        i2 = i2 * 0.95\n",
    "         \n",
    "        # пауза\n",
    "        sleep(pause)\n",
    "    \n",
    "glow()"
   ]
  },
  {
   "cell_type": "code",
   "execution_count": 15,
   "metadata": {
    "collapsed": false,
    "scrolled": true
   },
   "outputs": [
    {
     "data": {
      "text/plain": [
       "13"
      ]
     },
     "execution_count": 15,
     "metadata": {},
     "output_type": "execute_result"
    }
   ],
   "source": [
    "ser.write(bytearray([200, 10, 0, 253, 0, 53, 0,0,0,0,0,0,0xff]))"
   ]
  },
  {
   "cell_type": "code",
   "execution_count": 11,
   "metadata": {
    "collapsed": false
   },
   "outputs": [
    {
     "data": {
      "text/plain": [
       "13"
      ]
     },
     "execution_count": 11,
     "metadata": {},
     "output_type": "execute_result"
    }
   ],
   "source": [
    "ser.write(bytearray([0, 0, 0, 0, 0, 0, 0,0,0,0,0,0,0xff]))"
   ]
  },
  {
   "cell_type": "code",
   "execution_count": 7,
   "metadata": {
    "collapsed": false
   },
   "outputs": [
    {
     "ename": "SerialException",
     "evalue": "write failed: [Errno 5] Input/output error",
     "output_type": "error",
     "traceback": [
      "\u001b[0;31m---------------------------------------------------------------------------\u001b[0m",
      "\u001b[0;31mOSError\u001b[0m                                   Traceback (most recent call last)",
      "\u001b[0;32m/home/adonai/anaconda3/lib/python3.5/site-packages/serial/serialposix.py\u001b[0m in \u001b[0;36mwrite\u001b[0;34m(self, data)\u001b[0m\n\u001b[1;32m    498\u001b[0m             \u001b[0;32mtry\u001b[0m\u001b[0;34m:\u001b[0m\u001b[0;34m\u001b[0m\u001b[0m\n\u001b[0;32m--> 499\u001b[0;31m                 \u001b[0mn\u001b[0m \u001b[0;34m=\u001b[0m \u001b[0mos\u001b[0m\u001b[0;34m.\u001b[0m\u001b[0mwrite\u001b[0m\u001b[0;34m(\u001b[0m\u001b[0mself\u001b[0m\u001b[0;34m.\u001b[0m\u001b[0mfd\u001b[0m\u001b[0;34m,\u001b[0m \u001b[0md\u001b[0m\u001b[0;34m)\u001b[0m\u001b[0;34m\u001b[0m\u001b[0m\n\u001b[0m\u001b[1;32m    500\u001b[0m                 \u001b[0;32mif\u001b[0m \u001b[0mtimeout\u001b[0m\u001b[0;34m:\u001b[0m\u001b[0;34m\u001b[0m\u001b[0m\n",
      "\u001b[0;31mOSError\u001b[0m: [Errno 5] Input/output error",
      "\nDuring handling of the above exception, another exception occurred:\n",
      "\u001b[0;31mSerialException\u001b[0m                           Traceback (most recent call last)",
      "\u001b[0;32m<ipython-input-7-08702b925a04>\u001b[0m in \u001b[0;36m<module>\u001b[0;34m()\u001b[0m\n\u001b[0;32m----> 1\u001b[0;31m \u001b[0mser\u001b[0m\u001b[0;34m.\u001b[0m\u001b[0mwrite\u001b[0m\u001b[0;34m(\u001b[0m\u001b[0mbytearray\u001b[0m\u001b[0;34m(\u001b[0m\u001b[0;34m[\u001b[0m\u001b[0;36m0\u001b[0m\u001b[0;34m,\u001b[0m \u001b[0;36m0\u001b[0m\u001b[0;34m,\u001b[0m \u001b[0;36m0\u001b[0m\u001b[0;34m,\u001b[0m \u001b[0;36m0\u001b[0m\u001b[0;34m,\u001b[0m \u001b[0;36m0\u001b[0m\u001b[0;34m,\u001b[0m \u001b[0;36m0\u001b[0m\u001b[0;34m,\u001b[0m \u001b[0;36m0\u001b[0m\u001b[0;34m,\u001b[0m\u001b[0;36m0\u001b[0m\u001b[0;34m,\u001b[0m\u001b[0;36m0\u001b[0m\u001b[0;34m,\u001b[0m\u001b[0;36m0\u001b[0m\u001b[0;34m,\u001b[0m\u001b[0;36m0\u001b[0m\u001b[0;34m,\u001b[0m\u001b[0;36m0\u001b[0m\u001b[0;34m,\u001b[0m\u001b[0;36m0xff\u001b[0m\u001b[0;34m]\u001b[0m\u001b[0;34m)\u001b[0m\u001b[0;34m)\u001b[0m\u001b[0;34m\u001b[0m\u001b[0m\n\u001b[0m",
      "\u001b[0;32m/home/adonai/anaconda3/lib/python3.5/site-packages/serial/serialposix.py\u001b[0m in \u001b[0;36mwrite\u001b[0;34m(self, data)\u001b[0m\n\u001b[1;32m    516\u001b[0m             \u001b[0;32mexcept\u001b[0m \u001b[0mOSError\u001b[0m \u001b[0;32mas\u001b[0m \u001b[0mv\u001b[0m\u001b[0;34m:\u001b[0m\u001b[0;34m\u001b[0m\u001b[0m\n\u001b[1;32m    517\u001b[0m                 \u001b[0;32mif\u001b[0m \u001b[0mv\u001b[0m\u001b[0;34m.\u001b[0m\u001b[0merrno\u001b[0m \u001b[0;34m!=\u001b[0m \u001b[0merrno\u001b[0m\u001b[0;34m.\u001b[0m\u001b[0mEAGAIN\u001b[0m\u001b[0;34m:\u001b[0m\u001b[0;34m\u001b[0m\u001b[0m\n\u001b[0;32m--> 518\u001b[0;31m                     \u001b[0;32mraise\u001b[0m \u001b[0mSerialException\u001b[0m\u001b[0;34m(\u001b[0m\u001b[0;34m'write failed: %s'\u001b[0m \u001b[0;34m%\u001b[0m \u001b[0;34m(\u001b[0m\u001b[0mv\u001b[0m\u001b[0;34m,\u001b[0m\u001b[0;34m)\u001b[0m\u001b[0;34m)\u001b[0m\u001b[0;34m\u001b[0m\u001b[0m\n\u001b[0m\u001b[1;32m    519\u001b[0m         \u001b[0;32mreturn\u001b[0m \u001b[0mlen\u001b[0m\u001b[0;34m(\u001b[0m\u001b[0mdata\u001b[0m\u001b[0;34m)\u001b[0m\u001b[0;34m\u001b[0m\u001b[0m\n\u001b[1;32m    520\u001b[0m \u001b[0;34m\u001b[0m\u001b[0m\n",
      "\u001b[0;31mSerialException\u001b[0m: write failed: [Errno 5] Input/output error"
     ]
    }
   ],
   "source": [
    "ser.write(bytearray([0, 0, 0, 0, 0, 0, 0,0,0,0,0,0,0xff]))"
   ]
  },
  {
   "cell_type": "code",
   "execution_count": null,
   "metadata": {
    "collapsed": true
   },
   "outputs": [],
   "source": []
  },
  {
   "cell_type": "code",
   "execution_count": null,

